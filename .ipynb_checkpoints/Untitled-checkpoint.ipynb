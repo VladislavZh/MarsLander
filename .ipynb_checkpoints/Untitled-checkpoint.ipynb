{
 "cells": [
  {
   "cell_type": "code",
   "execution_count": 1,
   "id": "a1a2627b-f51e-4c7a-b701-085afadeecc6",
   "metadata": {},
   "outputs": [],
   "source": [
    "from scripts.system import SysMarsLander"
   ]
  },
  {
   "cell_type": "code",
   "execution_count": 2,
   "id": "a1106e0b-c8d9-406b-b55d-7ca992a968c7",
   "metadata": {},
   "outputs": [
    {
     "ename": "TypeError",
     "evalue": "__init__() missing 5 required positional arguments: 'sys_type', 'dim_state', 'dim_input', 'dim_output', and 'dim_disturb'",
     "output_type": "error",
     "traceback": [
      "\u001b[1;31m---------------------------------------------------------------------------\u001b[0m",
      "\u001b[1;31mTypeError\u001b[0m                                 Traceback (most recent call last)",
      "Input \u001b[1;32mIn [2]\u001b[0m, in \u001b[0;36m<cell line: 1>\u001b[1;34m()\u001b[0m\n\u001b[1;32m----> 1\u001b[0m system \u001b[38;5;241m=\u001b[39m \u001b[43mSysMarsLander\u001b[49m\u001b[43m(\u001b[49m\u001b[43m)\u001b[49m\n",
      "File \u001b[1;32m~\\Desktop\\Skoltech\\RL\\MarsLander\\scripts\\system.py:15\u001b[0m, in \u001b[0;36mSysMarsLander.__init__\u001b[1;34m(self, *args, **kwargs)\u001b[0m\n\u001b[0;32m     10\u001b[0m \u001b[38;5;28;01mdef\u001b[39;00m \u001b[38;5;21m__init__\u001b[39m(\n\u001b[0;32m     11\u001b[0m     \u001b[38;5;28mself\u001b[39m,\n\u001b[0;32m     12\u001b[0m     \u001b[38;5;241m*\u001b[39margs,\n\u001b[0;32m     13\u001b[0m     \u001b[38;5;241m*\u001b[39m\u001b[38;5;241m*\u001b[39mkwargs\n\u001b[0;32m     14\u001b[0m ) \u001b[38;5;241m-\u001b[39m\u001b[38;5;241m>\u001b[39m \u001b[38;5;28;01mNone\u001b[39;00m:\n\u001b[1;32m---> 15\u001b[0m     \u001b[38;5;28msuper\u001b[39m()\u001b[38;5;241m.\u001b[39m\u001b[38;5;21m__init__\u001b[39m(\u001b[38;5;241m*\u001b[39margs, \u001b[38;5;241m*\u001b[39m\u001b[38;5;241m*\u001b[39mkwargs)\n\u001b[0;32m     17\u001b[0m     \u001b[38;5;28mself\u001b[39m\u001b[38;5;241m.\u001b[39mname   \u001b[38;5;241m=\u001b[39m \u001b[38;5;124m\"\u001b[39m\u001b[38;5;124mmars-lander\u001b[39m\u001b[38;5;124m\"\u001b[39m\n\u001b[0;32m     18\u001b[0m     \u001b[38;5;28mself\u001b[39m\u001b[38;5;241m.\u001b[39mwidth  \u001b[38;5;241m=\u001b[39m \u001b[38;5;241m7000\u001b[39m\n",
      "\u001b[1;31mTypeError\u001b[0m: __init__() missing 5 required positional arguments: 'sys_type', 'dim_state', 'dim_input', 'dim_output', and 'dim_disturb'"
     ]
    }
   ],
   "source": [
    "system = SysMarsLander(\n",
    "            sys_type=\"diff_eqn\",\n",
    "            dim_state=3,\n",
    "            dim_input=2,\n",
    "            dim_output=5,\n",
    "            dim_disturb=0,\n",
    "            pars=[3.7],\n",
    "            is_dynamic_controller=0,\n",
    "            is_disturb=0,\n",
    "            pars_disturb=[]\n",
    ")"
   ]
  },
  {
   "cell_type": "code",
   "execution_count": null,
   "id": "5f99c478-3ef0-4c4c-9123-81ea7dfb131f",
   "metadata": {},
   "outputs": [],
   "source": []
  }
 ],
 "metadata": {
  "kernelspec": {
   "display_name": "Python 3 (ipykernel)",
   "language": "python",
   "name": "python3"
  },
  "language_info": {
   "codemirror_mode": {
    "name": "ipython",
    "version": 3
   },
   "file_extension": ".py",
   "mimetype": "text/x-python",
   "name": "python",
   "nbconvert_exporter": "python",
   "pygments_lexer": "ipython3",
   "version": "3.9.12"
  }
 },
 "nbformat": 4,
 "nbformat_minor": 5
}
